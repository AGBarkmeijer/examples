{
 "cells": [
  {
   "cell_type": "code",
   "execution_count": 1,
   "metadata": {},
   "outputs": [
    {
     "name": "stderr",
     "output_type": "stream",
     "text": [
      "/Users/bithiah/Documents/jina-ai/env/lib/python3.8/site-packages/jina/importer.py:134: UserWarning: due to the missing dependencies or bad implementations, ['jina.hub.encoders.image.VSEImageEncoder', 'jina.hub.encoders.nlp.VSETextEncoder'] can not be imported if you are using these executors/drivers, they wont work. You can use `jina check` to list all executors and drivers\n",
      "  warnings.warn(\n"
     ]
    }
   ],
   "source": [
    "from jina.flow import Flow"
   ]
  },
  {
   "cell_type": "code",
   "execution_count": 5,
   "metadata": {},
   "outputs": [
    {
     "name": "stdout",
     "output_type": "stream",
     "text": [
      "           Flow@4272[S]:\u001b[32msuccessfully built Flow from a yaml config\u001b[0m\n"
     ]
    }
   ],
   "source": [
    "f = Flow.load_config('flows/evaluate.yml')"
   ]
  },
  {
   "cell_type": "code",
   "execution_count": 6,
   "metadata": {},
   "outputs": [
    {
     "name": "stdout",
     "output_type": "stream",
     "text": [
      "           Flow@4272[I]:\u001b[37mflow visualization: https://mermaid.ink/svg/JSV7aW5pdDogeyd0aGVtZSc6ICdiYXNlJywgJ3RoZW1lVmFyaWFibGVzJzogeyAncHJpbWFyeUNvbG9yJzogJyMzMkM4Q0QnLCAnZWRnZUxhYmVsQmFja2dyb3VuZCc6JyNmZmYnLCAnY2x1c3RlckJrZyc6ICcjRkZDQzY2J319fSUlCmdyYXBoIExSCmdhdGV3YXkoZ2F0ZXdheSk6OjpHQVRFV0FZIC0tPiB8UFVTSC1QVUxMfGVuY29kZXIoZW5jb2Rlcik6OjpQT0QKZW5jb2RlcihlbmNvZGVyKTo6OlBPRCAtLT4gfFBVU0gtUFVMTHxkb2NfaW5kZXhlcihkb2NfaW5kZXhlcik6OjpQT0QKZG9jX2luZGV4ZXIoZG9jX2luZGV4ZXIpOjo6UE9EIC0tPiB8UFVTSC1QVUxMfGV2YWx1YXRlX21hdGNoaW5nKGV2YWx1YXRlX21hdGNoaW5nKTo6OlBPRApldmFsdWF0ZV9tYXRjaGluZyhldmFsdWF0ZV9tYXRjaGluZyk6OjpQT0QgLS0+IHxQVVNILVBVTEx8cmFua2VyKHJhbmtlcik6OjpQT0QKcmFua2VyKHJhbmtlcik6OjpQT0QgLS0+IHxQVVNILVBVTEx8ZXZhbHVhdGVfcmFua2luZyhldmFsdWF0ZV9yYW5raW5nKTo6OlBPRApldmFsdWF0ZV9yYW5raW5nKGV2YWx1YXRlX3JhbmtpbmcpOjo6UE9EIC0tPiB8UFVTSC1QVUxMfGdhdGV3YXlfRU5EKGdhdGV3YXkpOjo6R0FURVdBWQpjbGFzc0RlZiBQT0QgZmlsbDojMzJDOENELHN0cm9rZTojMDA5OTk5CmNsYXNzRGVmIElOU1BFQ1QgZmlsbDojZmY2NjY2LGNvbG9yOiNmZmYKY2xhc3NEZWYgSk9JTl9JTlNQRUNUIGZpbGw6I2ZmNjY2Nixjb2xvcjojZmZmCmNsYXNzRGVmIEdBVEVXQVkgZmlsbDojNkU3Mjc4LGNvbG9yOiNmZmYKY2xhc3NEZWYgSU5TUEVDVF9BVVhfUEFTUyBmaWxsOiNmZmYsY29sb3I6IzAwMCxzdHJva2UtZGFzaGFycmF5OiA1IDUKY2xhc3NEZWYgcGVhIGZpbGw6IzAwOTk5OSxzdHJva2U6IzFFNkU3Mw==\u001b[0m\n"
     ]
    },
    {
     "data": {
      "text/html": [
       "<img src=\"https://mermaid.ink/svg/JSV7aW5pdDogeyd0aGVtZSc6ICdiYXNlJywgJ3RoZW1lVmFyaWFibGVzJzogeyAncHJpbWFyeUNvbG9yJzogJyMzMkM4Q0QnLCAnZWRnZUxhYmVsQmFja2dyb3VuZCc6JyNmZmYnLCAnY2x1c3RlckJrZyc6ICcjRkZDQzY2J319fSUlCmdyYXBoIExSCmdhdGV3YXkoZ2F0ZXdheSk6OjpHQVRFV0FZIC0tPiB8UFVTSC1QVUxMfGVuY29kZXIoZW5jb2Rlcik6OjpQT0QKZW5jb2RlcihlbmNvZGVyKTo6OlBPRCAtLT4gfFBVU0gtUFVMTHxkb2NfaW5kZXhlcihkb2NfaW5kZXhlcik6OjpQT0QKZG9jX2luZGV4ZXIoZG9jX2luZGV4ZXIpOjo6UE9EIC0tPiB8UFVTSC1QVUxMfGV2YWx1YXRlX21hdGNoaW5nKGV2YWx1YXRlX21hdGNoaW5nKTo6OlBPRApldmFsdWF0ZV9tYXRjaGluZyhldmFsdWF0ZV9tYXRjaGluZyk6OjpQT0QgLS0+IHxQVVNILVBVTEx8cmFua2VyKHJhbmtlcik6OjpQT0QKcmFua2VyKHJhbmtlcik6OjpQT0QgLS0+IHxQVVNILVBVTEx8ZXZhbHVhdGVfcmFua2luZyhldmFsdWF0ZV9yYW5raW5nKTo6OlBPRApldmFsdWF0ZV9yYW5raW5nKGV2YWx1YXRlX3JhbmtpbmcpOjo6UE9EIC0tPiB8UFVTSC1QVUxMfGdhdGV3YXlfRU5EKGdhdGV3YXkpOjo6R0FURVdBWQpjbGFzc0RlZiBQT0QgZmlsbDojMzJDOENELHN0cm9rZTojMDA5OTk5CmNsYXNzRGVmIElOU1BFQ1QgZmlsbDojZmY2NjY2LGNvbG9yOiNmZmYKY2xhc3NEZWYgSk9JTl9JTlNQRUNUIGZpbGw6I2ZmNjY2Nixjb2xvcjojZmZmCmNsYXNzRGVmIEdBVEVXQVkgZmlsbDojNkU3Mjc4LGNvbG9yOiNmZmYKY2xhc3NEZWYgSU5TUEVDVF9BVVhfUEFTUyBmaWxsOiNmZmYsY29sb3I6IzAwMCxzdHJva2UtZGFzaGFycmF5OiA1IDUKY2xhc3NEZWYgcGVhIGZpbGw6IzAwOTk5OSxzdHJva2U6IzFFNkU3Mw==\"/>"
      ],
      "text/plain": [
       "<IPython.core.display.Image object>"
      ]
     },
     "metadata": {},
     "output_type": "display_data"
    }
   ],
   "source": [
    "f.plot()"
   ]
  },
  {
   "cell_type": "code",
   "execution_count": 7,
   "metadata": {},
   "outputs": [
    {
     "name": "stdout",
     "output_type": "stream",
     "text": [
      "           Flow@4272[S]:\u001b[32msuccessfully built Flow from a yaml config\u001b[0m\n",
      "           Flow@4272[I]:\u001b[37mflow visualization: https://mermaid.ink/svg/JSV7aW5pdDogeyd0aGVtZSc6ICdiYXNlJywgJ3RoZW1lVmFyaWFibGVzJzogeyAncHJpbWFyeUNvbG9yJzogJyMzMkM4Q0QnLCAnZWRnZUxhYmVsQmFja2dyb3VuZCc6JyNmZmYnLCAnY2x1c3RlckJrZyc6ICcjRkZDQzY2J319fSUlCmdyYXBoIExSCmdhdGV3YXkoZ2F0ZXdheSk6OjpHQVRFV0FZIC0tPiB8UFVTSC1QVUxMfGVuY29kZXIoZW5jb2Rlcik6OjpQT0QKZW5jb2RlcihlbmNvZGVyKTo6OlBPRCAtLT4gfFBVU0gtUFVMTHxkb2NfaW5kZXhlcihkb2NfaW5kZXhlcik6OjpQT0QKZG9jX2luZGV4ZXIoZG9jX2luZGV4ZXIpOjo6UE9EIC0tPiB8UFVTSC1QVUxMfHJhbmtlcihyYW5rZXIpOjo6UE9ECnJhbmtlcihyYW5rZXIpOjo6UE9EIC0tPiB8UFVTSC1QVUxMfGdhdGV3YXlfRU5EKGdhdGV3YXkpOjo6R0FURVdBWQpjbGFzc0RlZiBQT0QgZmlsbDojMzJDOENELHN0cm9rZTojMDA5OTk5CmNsYXNzRGVmIElOU1BFQ1QgZmlsbDojZmY2NjY2LGNvbG9yOiNmZmYKY2xhc3NEZWYgSk9JTl9JTlNQRUNUIGZpbGw6I2ZmNjY2Nixjb2xvcjojZmZmCmNsYXNzRGVmIEdBVEVXQVkgZmlsbDojNkU3Mjc4LGNvbG9yOiNmZmYKY2xhc3NEZWYgSU5TUEVDVF9BVVhfUEFTUyBmaWxsOiNmZmYsY29sb3I6IzAwMCxzdHJva2UtZGFzaGFycmF5OiA1IDUKY2xhc3NEZWYgcGVhIGZpbGw6IzAwOTk5OSxzdHJva2U6IzFFNkU3Mw==\u001b[0m\n"
     ]
    },
    {
     "data": {
      "text/html": [
       "<img src=\"https://mermaid.ink/svg/JSV7aW5pdDogeyd0aGVtZSc6ICdiYXNlJywgJ3RoZW1lVmFyaWFibGVzJzogeyAncHJpbWFyeUNvbG9yJzogJyMzMkM4Q0QnLCAnZWRnZUxhYmVsQmFja2dyb3VuZCc6JyNmZmYnLCAnY2x1c3RlckJrZyc6ICcjRkZDQzY2J319fSUlCmdyYXBoIExSCmdhdGV3YXkoZ2F0ZXdheSk6OjpHQVRFV0FZIC0tPiB8UFVTSC1QVUxMfGVuY29kZXIoZW5jb2Rlcik6OjpQT0QKZW5jb2RlcihlbmNvZGVyKTo6OlBPRCAtLT4gfFBVU0gtUFVMTHxkb2NfaW5kZXhlcihkb2NfaW5kZXhlcik6OjpQT0QKZG9jX2luZGV4ZXIoZG9jX2luZGV4ZXIpOjo6UE9EIC0tPiB8UFVTSC1QVUxMfHJhbmtlcihyYW5rZXIpOjo6UE9ECnJhbmtlcihyYW5rZXIpOjo6UE9EIC0tPiB8UFVTSC1QVUxMfGdhdGV3YXlfRU5EKGdhdGV3YXkpOjo6R0FURVdBWQpjbGFzc0RlZiBQT0QgZmlsbDojMzJDOENELHN0cm9rZTojMDA5OTk5CmNsYXNzRGVmIElOU1BFQ1QgZmlsbDojZmY2NjY2LGNvbG9yOiNmZmYKY2xhc3NEZWYgSk9JTl9JTlNQRUNUIGZpbGw6I2ZmNjY2Nixjb2xvcjojZmZmCmNsYXNzRGVmIEdBVEVXQVkgZmlsbDojNkU3Mjc4LGNvbG9yOiNmZmYKY2xhc3NEZWYgSU5TUEVDVF9BVVhfUEFTUyBmaWxsOiNmZmYsY29sb3I6IzAwMCxzdHJva2UtZGFzaGFycmF5OiA1IDUKY2xhc3NEZWYgcGVhIGZpbGw6IzAwOTk5OSxzdHJva2U6IzFFNkU3Mw==\"/>"
      ],
      "text/plain": [
       "<IPython.core.display.Image object>"
      ]
     },
     "metadata": {},
     "output_type": "display_data"
    }
   ],
   "source": [
    "f = Flow.load_config('flows/query.yml')\n",
    "f.plot()"
   ]
  }
 ],
 "metadata": {
  "kernelspec": {
   "display_name": "Python 3",
   "language": "python",
   "name": "python3"
  },
  "language_info": {
   "codemirror_mode": {
    "name": "ipython",
    "version": 3
   },
   "file_extension": ".py",
   "mimetype": "text/x-python",
   "name": "python",
   "nbconvert_exporter": "python",
   "pygments_lexer": "ipython3",
   "version": "3.8.5"
  }
 },
 "nbformat": 4,
 "nbformat_minor": 4
}
