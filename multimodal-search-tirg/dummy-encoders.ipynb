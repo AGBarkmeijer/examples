{
 "cells": [
  {
   "cell_type": "code",
   "execution_count": 7,
   "metadata": {},
   "outputs": [],
   "source": [
    "__copyright__ = \"Copyright (c) 2020 Jina AI Limited. All rights reserved.\"\n",
    "__license__ = \"Apache-2.0\"\n",
    "\n",
    "import numpy as np\n",
    "\n",
    "from jina.executors.decorators import batching, as_ndarray\n",
    "from jina.executors.encoders import BaseEncoder\n",
    "\n",
    "\n",
    "class DummyEncoder(BaseEncoder):\n",
    "\n",
    "    def __init__(self, emb_dim=1, *args, **kwargs):\n",
    "        super().__init__(*args, **kwargs)\n",
    "        self.emb_dim = emb_dim\n",
    "\n",
    "    @batching\n",
    "    @as_ndarray\n",
    "    def encode(self, data: 'np.ndarray', *args, **kwargs) -> 'np.ndarray':\n",
    "        _feature = np.random.rand(data.shape[0], self.emb_dim)\n",
    "        return _feature"
   ]
  },
  {
   "cell_type": "code",
   "execution_count": 15,
   "metadata": {},
   "outputs": [
    {
     "name": "stdout",
     "output_type": "stream",
     "text": [
      "   DummyEncoder@33861[I]:\u001b[37mpost initiating, this may take some time...\u001b[0m\n",
      "   DummyEncoder@33861[I]:\u001b[37mpost initiating, this may take some time takes 0 seconds (0.00s)\u001b[0m\n"
     ]
    }
   ],
   "source": [
    "enc = DummyEncoder(10)"
   ]
  },
  {
   "cell_type": "code",
   "execution_count": 16,
   "metadata": {},
   "outputs": [
    {
     "data": {
      "text/plain": [
       "(1, 10)"
      ]
     },
     "execution_count": 16,
     "metadata": {},
     "output_type": "execute_result"
    }
   ],
   "source": [
    "enc.encode(np.array([1])).shape"
   ]
  },
  {
   "cell_type": "code",
   "execution_count": 17,
   "metadata": {},
   "outputs": [
    {
     "data": {
      "text/plain": [
       "(2, 10)"
      ]
     },
     "execution_count": 17,
     "metadata": {},
     "output_type": "execute_result"
    }
   ],
   "source": [
    "enc.encode(np.array([[1], [2]])).shape"
   ]
  },
  {
   "cell_type": "code",
   "execution_count": null,
   "metadata": {},
   "outputs": [],
   "source": []
  }
 ],
 "metadata": {
  "kernelspec": {
   "display_name": "Python 3",
   "language": "python",
   "name": "python3"
  },
  "language_info": {
   "codemirror_mode": {
    "name": "ipython",
    "version": 3
   },
   "file_extension": ".py",
   "mimetype": "text/x-python",
   "name": "python",
   "nbconvert_exporter": "python",
   "pygments_lexer": "ipython3",
   "version": "3.7.9"
  }
 },
 "nbformat": 4,
 "nbformat_minor": 4
}
