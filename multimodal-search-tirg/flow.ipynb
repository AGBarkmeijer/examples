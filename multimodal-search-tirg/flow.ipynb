{
 "cells": [
  {
   "cell_type": "markdown",
   "metadata": {},
   "source": [
    "## Crossmodal flow"
   ]
  },
  {
   "cell_type": "code",
   "execution_count": 14,
   "metadata": {},
   "outputs": [],
   "source": [
    "import os\n",
    "os.chdir('../cross-modal-search/')"
   ]
  },
  {
   "cell_type": "code",
   "execution_count": 15,
   "metadata": {},
   "outputs": [],
   "source": [
    "from jina.flow import Flow"
   ]
  },
  {
   "cell_type": "code",
   "execution_count": 16,
   "metadata": {},
   "outputs": [],
   "source": [
    "os.environ['PARALLEL'] = str(1)\n",
    "os.environ['SHARDS'] = str(1)\n",
    "os.environ['COLOR_CHANNEL_AXIS'] = str(0)\n",
    "os.environ['JINA_PORT'] = str(45678)"
   ]
  },
  {
   "cell_type": "code",
   "execution_count": 17,
   "metadata": {},
   "outputs": [
    {
     "name": "stdout",
     "output_type": "stream",
     "text": [
      "           Flow@34544[S]:\u001b[32msuccessfully built Flow from a yaml config\u001b[0m\n"
     ]
    },
    {
     "data": {
      "text/html": [
       "<img src=\"https://mermaid.ink/svg/JSV7aW5pdDogeyd0aGVtZSc6ICdiYXNlJywgJ3RoZW1lVmFyaWFibGVzJzogeyAncHJpbWFyeUNvbG9yJzogJyMzMkM4Q0QnLCAnZWRnZUxhYmVsQmFja2dyb3VuZCc6JyNmZmYnLCAnY2x1c3RlckJrZyc6ICcjRkZDQzY2J319fSUlCmdyYXBoIExSCmdhdGV3YXkoZ2F0ZXdheSk6OjpHQVRFV0FZIC0tPiB8UFVCLVNVQnxsb2FkZXIobG9hZGVyKTo6OlBPRApsb2FkZXIobG9hZGVyKTo6OlBPRCAtLT4gfFBVU0gtUFVMTHxub3JtYWxpemVyKG5vcm1hbGl6ZXIpOjo6UE9ECm5vcm1hbGl6ZXIobm9ybWFsaXplcik6OjpQT0QgLS0+IHxQVVNILVBVTEx8aW1hZ2VfZW5jb2RlcihpbWFnZV9lbmNvZGVyKTo6OlBPRAppbWFnZV9lbmNvZGVyKGltYWdlX2VuY29kZXIpOjo6UE9EIC0tPiB8UFVTSC1QVUxMfGltYWdlX3ZlY3Rvcl9pbmRleGVyKGltYWdlX3ZlY3Rvcl9pbmRleGVyKTo6OlBPRApnYXRld2F5KGdhdGV3YXkpOjo6R0FURVdBWSAtLT4gfFBVQi1TVUJ8aW1hZ2Vfa3ZfaW5kZXhlcihpbWFnZV9rdl9pbmRleGVyKTo6OlBPRApnYXRld2F5KGdhdGV3YXkpOjo6R0FURVdBWSAtLT4gfFBVQi1TVUJ8dGV4dF9lbmNvZGVyKHRleHRfZW5jb2Rlcik6OjpQT0QKdGV4dF9lbmNvZGVyKHRleHRfZW5jb2Rlcik6OjpQT0QgLS0+IHxQVVNILVBVTEx8dGV4dF9pbmRleGVyKHRleHRfaW5kZXhlcik6OjpQT0QKaW1hZ2Vfa3ZfaW5kZXhlcihpbWFnZV9rdl9pbmRleGVyKTo6OlBPRCAtLT4gfFBVU0gtUFVMTHxqb2luX2FsbChqb2luX2FsbCk6OjpQT0QKaW1hZ2VfdmVjdG9yX2luZGV4ZXIoaW1hZ2VfdmVjdG9yX2luZGV4ZXIpOjo6UE9EIC0tPiB8UFVTSC1QVUxMfGpvaW5fYWxsKGpvaW5fYWxsKTo6OlBPRAp0ZXh0X2luZGV4ZXIodGV4dF9pbmRleGVyKTo6OlBPRCAtLT4gfFBVU0gtUFVMTHxqb2luX2FsbChqb2luX2FsbCk6OjpQT0QKam9pbl9hbGwoam9pbl9hbGwpOjo6UE9EIC0tPiB8UFVTSC1QVUxMfGdhdGV3YXlfRU5EKGdhdGV3YXkpOjo6R0FURVdBWQpjbGFzc0RlZiBQT0QgZmlsbDojMzJDOENELHN0cm9rZTojMDA5OTk5CmNsYXNzRGVmIElOU1BFQ1QgZmlsbDojZmY2NjY2LGNvbG9yOiNmZmYKY2xhc3NEZWYgSk9JTl9JTlNQRUNUIGZpbGw6I2ZmNjY2Nixjb2xvcjojZmZmCmNsYXNzRGVmIEdBVEVXQVkgZmlsbDojNkU3Mjc4LGNvbG9yOiNmZmYKY2xhc3NEZWYgSU5TUEVDVF9BVVhfUEFTUyBmaWxsOiNmZmYsY29sb3I6IzAwMCxzdHJva2UtZGFzaGFycmF5OiA1IDUKY2xhc3NEZWYgcGVhIGZpbGw6IzAwOTk5OSxzdHJva2U6IzFFNkU3Mw==\"/>"
      ],
      "text/plain": [
       "<IPython.core.display.Image object>"
      ]
     },
     "metadata": {},
     "output_type": "display_data"
    },
    {
     "data": {
      "text/plain": [
       "<jina.flow.Flow at 0x7f83d42424d0>"
      ]
     },
     "execution_count": 17,
     "metadata": {},
     "output_type": "execute_result"
    }
   ],
   "source": [
    "f = Flow().load_config('flow-index.yml')\n",
    "f.plot()"
   ]
  },
  {
   "cell_type": "code",
   "execution_count": 18,
   "metadata": {},
   "outputs": [
    {
     "name": "stdout",
     "output_type": "stream",
     "text": [
      "           Flow@34544[S]:\u001b[32msuccessfully built Flow from a yaml config\u001b[0m\n"
     ]
    },
    {
     "data": {
      "text/html": [
       "<img src=\"https://mermaid.ink/svg/JSV7aW5pdDogeyd0aGVtZSc6ICdiYXNlJywgJ3RoZW1lVmFyaWFibGVzJzogeyAncHJpbWFyeUNvbG9yJzogJyMzMkM4Q0QnLCAnZWRnZUxhYmVsQmFja2dyb3VuZCc6JyNmZmYnLCAnY2x1c3RlckJrZyc6ICcjRkZDQzY2J319fSUlCmdyYXBoIExSCmdhdGV3YXkoZ2F0ZXdheSk6OjpHQVRFV0FZIC0tPiB8UFVCLVNVQnxsb2FkZXIobG9hZGVyKTo6OlBPRApsb2FkZXIobG9hZGVyKTo6OlBPRCAtLT4gfFBVU0gtUFVMTHxub3JtYWxpemVyKG5vcm1hbGl6ZXIpOjo6UE9ECm5vcm1hbGl6ZXIobm9ybWFsaXplcik6OjpQT0QgLS0+IHxQVVNILVBVTEx8aW1hZ2VfZW5jb2RlcihpbWFnZV9lbmNvZGVyKTo6OlBPRAppbWFnZV9lbmNvZGVyKGltYWdlX2VuY29kZXIpOjo6UE9EIC0tPiB8UFVTSC1QVUxMfHRleHRfaW5kZXhlcih0ZXh0X2luZGV4ZXIpOjo6UE9ECmdhdGV3YXkoZ2F0ZXdheSk6OjpHQVRFV0FZIC0tPiB8UFVCLVNVQnx0ZXh0X2VuY29kZXIodGV4dF9lbmNvZGVyKTo6OlBPRAp0ZXh0X2VuY29kZXIodGV4dF9lbmNvZGVyKTo6OlBPRCAtLT4gfFBVU0gtUFVMTHxpbWFnZV92ZWN0b3JfaW5kZXhlcihpbWFnZV92ZWN0b3JfaW5kZXhlcik6OjpQT0QKaW1hZ2VfdmVjdG9yX2luZGV4ZXIoaW1hZ2VfdmVjdG9yX2luZGV4ZXIpOjo6UE9EIC0tPiB8UFVTSC1QVUxMfGltYWdlX2t2X2luZGV4ZXIoaW1hZ2Vfa3ZfaW5kZXhlcik6OjpQT0QKaW1hZ2Vfa3ZfaW5kZXhlcihpbWFnZV9rdl9pbmRleGVyKTo6OlBPRCAtLT4gfFBVU0gtUFVMTHxqb2luX2FsbChqb2luX2FsbCk6OjpQT0QKdGV4dF9pbmRleGVyKHRleHRfaW5kZXhlcik6OjpQT0QgLS0+IHxQVVNILVBVTEx8am9pbl9hbGwoam9pbl9hbGwpOjo6UE9ECmpvaW5fYWxsKGpvaW5fYWxsKTo6OlBPRCAtLT4gfFBVU0gtUFVMTHxnYXRld2F5X0VORChnYXRld2F5KTo6OkdBVEVXQVkKY2xhc3NEZWYgUE9EIGZpbGw6IzMyQzhDRCxzdHJva2U6IzAwOTk5OQpjbGFzc0RlZiBJTlNQRUNUIGZpbGw6I2ZmNjY2Nixjb2xvcjojZmZmCmNsYXNzRGVmIEpPSU5fSU5TUEVDVCBmaWxsOiNmZjY2NjYsY29sb3I6I2ZmZgpjbGFzc0RlZiBHQVRFV0FZIGZpbGw6IzZFNzI3OCxjb2xvcjojZmZmCmNsYXNzRGVmIElOU1BFQ1RfQVVYX1BBU1MgZmlsbDojZmZmLGNvbG9yOiMwMDAsc3Ryb2tlLWRhc2hhcnJheTogNSA1CmNsYXNzRGVmIHBlYSBmaWxsOiMwMDk5OTksc3Ryb2tlOiMxRTZFNzM=\"/>"
      ],
      "text/plain": [
       "<IPython.core.display.Image object>"
      ]
     },
     "metadata": {},
     "output_type": "display_data"
    },
    {
     "data": {
      "text/plain": [
       "<jina.flow.Flow at 0x7f83d4230350>"
      ]
     },
     "execution_count": 18,
     "metadata": {},
     "output_type": "execute_result"
    }
   ],
   "source": [
    "f = Flow().load_config('flow-query.yml')\n",
    "f.plot()"
   ]
  },
  {
   "cell_type": "markdown",
   "metadata": {},
   "source": [
    "## Multimodal flow"
   ]
  },
  {
   "cell_type": "code",
   "execution_count": 33,
   "metadata": {},
   "outputs": [],
   "source": [
    "import os\n",
    "os.chdir('../multimodal-search-tirg/')"
   ]
  },
  {
   "cell_type": "code",
   "execution_count": 34,
   "metadata": {},
   "outputs": [
    {
     "name": "stdout",
     "output_type": "stream",
     "text": [
      "           Flow@34544[S]:\u001b[32msuccessfully built Flow from a yaml config\u001b[0m\n"
     ]
    },
    {
     "data": {
      "text/html": [
       "<img src=\"https://mermaid.ink/svg/JSV7aW5pdDogeyd0aGVtZSc6ICdiYXNlJywgJ3RoZW1lVmFyaWFibGVzJzogeyAncHJpbWFyeUNvbG9yJzogJyMzMkM4Q0QnLCAnZWRnZUxhYmVsQmFja2dyb3VuZCc6JyNmZmYnLCAnY2x1c3RlckJrZyc6ICcjRkZDQzY2J319fSUlCmdyYXBoIExSCmdhdGV3YXkoZ2F0ZXdheSk6OjpHQVRFV0FZIC0tPiB8UFVCLVNVQnxyZWFkKHJlYWQpOjo6UE9ECnJlYWQocmVhZCk6OjpQT0QgLS0+IHxQVVNILVBVTEx8bm9ybWFsaXplKG5vcm1hbGl6ZSk6OjpQT0QKbm9ybWFsaXplKG5vcm1hbGl6ZSk6OjpQT0QgLS0+IHxQVVNILVBVTEx8ZW5jb2RlKGVuY29kZSk6OjpQT0QKZW5jb2RlKGVuY29kZSk6OjpQT0QgLS0+IHxQVVNILVBVTEx8dmVjX2lkeCh2ZWNfaWR4KTo6OlBPRApnYXRld2F5KGdhdGV3YXkpOjo6R0FURVdBWSAtLT4gfFBVQi1TVUJ8aW1hZ2Vfa3YoaW1hZ2Vfa3YpOjo6UE9ECmltYWdlX2t2KGltYWdlX2t2KTo6OlBPRCAtLT4gfFBVU0gtUFVMTHxqb2luX2FsbChqb2luX2FsbCk6OjpQT0QKdmVjX2lkeCh2ZWNfaWR4KTo6OlBPRCAtLT4gfFBVU0gtUFVMTHxqb2luX2FsbChqb2luX2FsbCk6OjpQT0QKam9pbl9hbGwoam9pbl9hbGwpOjo6UE9EIC0tPiB8UFVTSC1QVUxMfGdhdGV3YXlfRU5EKGdhdGV3YXkpOjo6R0FURVdBWQpjbGFzc0RlZiBQT0QgZmlsbDojMzJDOENELHN0cm9rZTojMDA5OTk5CmNsYXNzRGVmIElOU1BFQ1QgZmlsbDojZmY2NjY2LGNvbG9yOiNmZmYKY2xhc3NEZWYgSk9JTl9JTlNQRUNUIGZpbGw6I2ZmNjY2Nixjb2xvcjojZmZmCmNsYXNzRGVmIEdBVEVXQVkgZmlsbDojNkU3Mjc4LGNvbG9yOiNmZmYKY2xhc3NEZWYgSU5TUEVDVF9BVVhfUEFTUyBmaWxsOiNmZmYsY29sb3I6IzAwMCxzdHJva2UtZGFzaGFycmF5OiA1IDUKY2xhc3NEZWYgcGVhIGZpbGw6IzAwOTk5OSxzdHJva2U6IzFFNkU3Mw==\"/>"
      ],
      "text/plain": [
       "<IPython.core.display.Image object>"
      ]
     },
     "metadata": {},
     "output_type": "display_data"
    },
    {
     "data": {
      "text/plain": [
       "<jina.flow.Flow at 0x7f83d442dc50>"
      ]
     },
     "execution_count": 34,
     "metadata": {},
     "output_type": "execute_result"
    }
   ],
   "source": [
    "f = Flow().load_config('flow-index.yml')\n",
    "f.plot()"
   ]
  },
  {
   "cell_type": "code",
   "execution_count": 35,
   "metadata": {},
   "outputs": [
    {
     "name": "stdout",
     "output_type": "stream",
     "text": [
      "           Flow@34544[S]:\u001b[32msuccessfully built Flow from a yaml config\u001b[0m\n"
     ]
    },
    {
     "data": {
      "text/html": [
       "<img src=\"https://mermaid.ink/svg/JSV7aW5pdDogeyd0aGVtZSc6ICdiYXNlJywgJ3RoZW1lVmFyaWFibGVzJzogeyAncHJpbWFyeUNvbG9yJzogJyMzMkM4Q0QnLCAnZWRnZUxhYmVsQmFja2dyb3VuZCc6JyNmZmYnLCAnY2x1c3RlckJrZyc6ICcjRkZDQzY2J319fSUlCmdyYXBoIExSCnN1YmdyYXBoIHN1Yl9lbmNvZGUgWyJlbmNvZGUgKDEpIl0KCWVuY29kZV9IRUFEKChoZWFkKSk6OjpwZWEtLT5lbmNvZGVbW2VuY29kZV1dOjo6cGVhCmVuZApnYXRld2F5KGdhdGV3YXkpOjo6R0FURVdBWSAtLT4gfFBVQi1TVUJ8aW1hZ2VfcmVhZF9maWx0ZXIoaW1hZ2VfcmVhZF9maWx0ZXIpOjo6UE9ECmltYWdlX3JlYWRfZmlsdGVyKGltYWdlX3JlYWRfZmlsdGVyKTo6OlBPRCAtLT4gfFBVU0gtUFVMTHxub3JtYWxpemUobm9ybWFsaXplKTo6OlBPRApnYXRld2F5KGdhdGV3YXkpOjo6R0FURVdBWSAtLT4gfFBVQi1TVUJ8dGV4dF9maWx0ZXIodGV4dF9maWx0ZXIpOjo6UE9ECm5vcm1hbGl6ZShub3JtYWxpemUpOjo6UE9EIC0tPiB8UFVTSC1QVUxMfGVuY29kZV9IRUFEKChmYTpmYS1yYW5kb20pKTo6OlBPRAp0ZXh0X2ZpbHRlcih0ZXh0X2ZpbHRlcik6OjpQT0QgLS0+IHxQVVNILVBVTEx8ZW5jb2RlX0hFQUQoKGZhOmZhLXJhbmRvbSkpOjo6UE9ECmVuY29kZShlbmNvZGUpOjo6UE9EIC0tPiB8UFVTSC1QVUxMfHZlY19pZHgodmVjX2lkeCk6OjpQT0QKdmVjX2lkeCh2ZWNfaWR4KTo6OlBPRCAtLT4gfFBVU0gtUFVMTHxkb2NfaWR4KGRvY19pZHgpOjo6UE9ECmRvY19pZHgoZG9jX2lkeCk6OjpQT0QgLS0+IHxQVVNILVBVTEx8Z2F0ZXdheV9FTkQoZ2F0ZXdheSk6OjpHQVRFV0FZCmNsYXNzRGVmIFBPRCBmaWxsOiMzMkM4Q0Qsc3Ryb2tlOiMwMDk5OTkKY2xhc3NEZWYgSU5TUEVDVCBmaWxsOiNmZjY2NjYsY29sb3I6I2ZmZgpjbGFzc0RlZiBKT0lOX0lOU1BFQ1QgZmlsbDojZmY2NjY2LGNvbG9yOiNmZmYKY2xhc3NEZWYgR0FURVdBWSBmaWxsOiM2RTcyNzgsY29sb3I6I2ZmZgpjbGFzc0RlZiBJTlNQRUNUX0FVWF9QQVNTIGZpbGw6I2ZmZixjb2xvcjojMDAwLHN0cm9rZS1kYXNoYXJyYXk6IDUgNQpjbGFzc0RlZiBwZWEgZmlsbDojMDA5OTk5LHN0cm9rZTojMUU2RTcz\"/>"
      ],
      "text/plain": [
       "<IPython.core.display.Image object>"
      ]
     },
     "metadata": {},
     "output_type": "display_data"
    },
    {
     "data": {
      "text/plain": [
       "<jina.flow.Flow at 0x7f83d40927d0>"
      ]
     },
     "execution_count": 35,
     "metadata": {},
     "output_type": "execute_result"
    }
   ],
   "source": [
    "f = Flow().load_config('flow-query.yml')\n",
    "f.plot()"
   ]
  },
  {
   "cell_type": "code",
   "execution_count": null,
   "metadata": {},
   "outputs": [],
   "source": []
  },
  {
   "cell_type": "code",
   "execution_count": null,
   "metadata": {},
   "outputs": [],
   "source": []
  },
  {
   "cell_type": "code",
   "execution_count": null,
   "metadata": {},
   "outputs": [],
   "source": []
  }
 ],
 "metadata": {
  "kernelspec": {
   "display_name": "Python 3",
   "language": "python",
   "name": "python3"
  },
  "language_info": {
   "codemirror_mode": {
    "name": "ipython",
    "version": 3
   },
   "file_extension": ".py",
   "mimetype": "text/x-python",
   "name": "python",
   "nbconvert_exporter": "python",
   "pygments_lexer": "ipython3",
   "version": "3.7.9"
  }
 },
 "nbformat": 4,
 "nbformat_minor": 4
}
